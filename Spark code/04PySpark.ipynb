{
  "nbformat": 4,
  "nbformat_minor": 0,
  "metadata": {
    "colab": {
      "provenance": []
    },
    "kernelspec": {
      "name": "python3",
      "display_name": "Python 3"
    },
    "language_info": {
      "name": "python"
    }
  },
  "cells": [
    {
      "cell_type": "markdown",
      "source": [
        "FOR INSTALLING PYSPARK\n"
      ],
      "metadata": {
        "id": "fWKWmLmfyWIa"
      }
    },
    {
      "cell_type": "code",
      "execution_count": null,
      "metadata": {
        "colab": {
          "base_uri": "https://localhost:8080/"
        },
        "id": "J32wdDVgtWGM",
        "outputId": "485fe0a3-35a3-4ce6-aed2-908d7a9caab1"
      },
      "outputs": [
        {
          "output_type": "stream",
          "name": "stdout",
          "text": [
            "Collecting pyspark\n",
            "  Downloading pyspark-3.5.3.tar.gz (317.3 MB)\n",
            "\u001b[2K     \u001b[90m━━━━━━━━━━━━━━━━━━━━━━━━━━━━━━━━━━━━━━━━\u001b[0m \u001b[32m317.3/317.3 MB\u001b[0m \u001b[31m1.6 MB/s\u001b[0m eta \u001b[36m0:00:00\u001b[0m\n",
            "\u001b[?25h  Preparing metadata (setup.py) ... \u001b[?25l\u001b[?25hdone\n",
            "Requirement already satisfied: py4j==0.10.9.7 in /usr/local/lib/python3.10/dist-packages (from pyspark) (0.10.9.7)\n",
            "Building wheels for collected packages: pyspark\n",
            "  Building wheel for pyspark (setup.py) ... \u001b[?25l\u001b[?25hdone\n",
            "  Created wheel for pyspark: filename=pyspark-3.5.3-py2.py3-none-any.whl size=317840625 sha256=ea34d9675100e085b7d125f49ccbd9e55d8021e8c1b3e850e1f15bcd1a1a6f45\n",
            "  Stored in directory: /root/.cache/pip/wheels/1b/3a/92/28b93e2fbfdbb07509ca4d6f50c5e407f48dce4ddbda69a4ab\n",
            "Successfully built pyspark\n",
            "Installing collected packages: pyspark\n",
            "Successfully installed pyspark-3.5.3\n"
          ]
        }
      ],
      "source": [
        "!pip install pyspark"
      ]
    },
    {
      "cell_type": "markdown",
      "source": [
        "IMPORT'S FOR THE CODE"
      ],
      "metadata": {
        "id": "WnWe0MhXyyVA"
      }
    },
    {
      "cell_type": "code",
      "source": [
        "import pyspark\n",
        "import pandas as pd\n",
        "from pyspark.sql import SparkSession    #For creating a sparksession to perform task"
      ],
      "metadata": {
        "id": "HNrchgNdyxr5"
      },
      "execution_count": null,
      "outputs": []
    },
    {
      "cell_type": "markdown",
      "source": [
        "READING TEH CSV FILE WHICH YOU HAVE CREATED"
      ],
      "metadata": {
        "id": "HjGzO8Yuyz7Q"
      }
    },
    {
      "cell_type": "code",
      "source": [
        "pd.read_csv('/content/sample_data/employees.csv')"
      ],
      "metadata": {
        "colab": {
          "base_uri": "https://localhost:8080/",
          "height": 551
        },
        "id": "Nkb98JANy0SI",
        "outputId": "bca949bf-b5a1-4455-92b7-d00f42807a4f"
      },
      "execution_count": null,
      "outputs": [
        {
          "output_type": "execute_result",
          "data": {
            "text/plain": [
              "              Name  Age  Experience  Salary\n",
              "0      Alice Smith   28           5   60000\n",
              "1      Bob Johnson   35          10   85000\n",
              "2    Charlie Brown   22           1   45000\n",
              "3      Diana White   30           7   70000\n",
              "4      Ethan Clark   40          15   95000\n",
              "5      Fiona Green   27           3   55000\n",
              "6    George Harris   50          20  120000\n",
              "7       Hannah Lee   29           6   65000\n",
              "8       Ian Walker   33          12   80000\n",
              "9      Julia Adams   25           4   48000\n",
              "10    Kevin Martin   38           9   72000\n",
              "11  Laura Thompson   31           8   78000\n",
              "12    Michael King   45          18  110000\n",
              "13      Nina Scott   26           2   50000\n",
              "14    Oscar Turner   37          14   90000\n",
              "15     Paula Allen   34          11   82000"
            ],
            "text/html": [
              "\n",
              "  <div id=\"df-2a53c5ca-8791-403e-acf6-6e3116120cd2\" class=\"colab-df-container\">\n",
              "    <div>\n",
              "<style scoped>\n",
              "    .dataframe tbody tr th:only-of-type {\n",
              "        vertical-align: middle;\n",
              "    }\n",
              "\n",
              "    .dataframe tbody tr th {\n",
              "        vertical-align: top;\n",
              "    }\n",
              "\n",
              "    .dataframe thead th {\n",
              "        text-align: right;\n",
              "    }\n",
              "</style>\n",
              "<table border=\"1\" class=\"dataframe\">\n",
              "  <thead>\n",
              "    <tr style=\"text-align: right;\">\n",
              "      <th></th>\n",
              "      <th>Name</th>\n",
              "      <th>Age</th>\n",
              "      <th>Experience</th>\n",
              "      <th>Salary</th>\n",
              "    </tr>\n",
              "  </thead>\n",
              "  <tbody>\n",
              "    <tr>\n",
              "      <th>0</th>\n",
              "      <td>Alice Smith</td>\n",
              "      <td>28</td>\n",
              "      <td>5</td>\n",
              "      <td>60000</td>\n",
              "    </tr>\n",
              "    <tr>\n",
              "      <th>1</th>\n",
              "      <td>Bob Johnson</td>\n",
              "      <td>35</td>\n",
              "      <td>10</td>\n",
              "      <td>85000</td>\n",
              "    </tr>\n",
              "    <tr>\n",
              "      <th>2</th>\n",
              "      <td>Charlie Brown</td>\n",
              "      <td>22</td>\n",
              "      <td>1</td>\n",
              "      <td>45000</td>\n",
              "    </tr>\n",
              "    <tr>\n",
              "      <th>3</th>\n",
              "      <td>Diana White</td>\n",
              "      <td>30</td>\n",
              "      <td>7</td>\n",
              "      <td>70000</td>\n",
              "    </tr>\n",
              "    <tr>\n",
              "      <th>4</th>\n",
              "      <td>Ethan Clark</td>\n",
              "      <td>40</td>\n",
              "      <td>15</td>\n",
              "      <td>95000</td>\n",
              "    </tr>\n",
              "    <tr>\n",
              "      <th>5</th>\n",
              "      <td>Fiona Green</td>\n",
              "      <td>27</td>\n",
              "      <td>3</td>\n",
              "      <td>55000</td>\n",
              "    </tr>\n",
              "    <tr>\n",
              "      <th>6</th>\n",
              "      <td>George Harris</td>\n",
              "      <td>50</td>\n",
              "      <td>20</td>\n",
              "      <td>120000</td>\n",
              "    </tr>\n",
              "    <tr>\n",
              "      <th>7</th>\n",
              "      <td>Hannah Lee</td>\n",
              "      <td>29</td>\n",
              "      <td>6</td>\n",
              "      <td>65000</td>\n",
              "    </tr>\n",
              "    <tr>\n",
              "      <th>8</th>\n",
              "      <td>Ian Walker</td>\n",
              "      <td>33</td>\n",
              "      <td>12</td>\n",
              "      <td>80000</td>\n",
              "    </tr>\n",
              "    <tr>\n",
              "      <th>9</th>\n",
              "      <td>Julia Adams</td>\n",
              "      <td>25</td>\n",
              "      <td>4</td>\n",
              "      <td>48000</td>\n",
              "    </tr>\n",
              "    <tr>\n",
              "      <th>10</th>\n",
              "      <td>Kevin Martin</td>\n",
              "      <td>38</td>\n",
              "      <td>9</td>\n",
              "      <td>72000</td>\n",
              "    </tr>\n",
              "    <tr>\n",
              "      <th>11</th>\n",
              "      <td>Laura Thompson</td>\n",
              "      <td>31</td>\n",
              "      <td>8</td>\n",
              "      <td>78000</td>\n",
              "    </tr>\n",
              "    <tr>\n",
              "      <th>12</th>\n",
              "      <td>Michael King</td>\n",
              "      <td>45</td>\n",
              "      <td>18</td>\n",
              "      <td>110000</td>\n",
              "    </tr>\n",
              "    <tr>\n",
              "      <th>13</th>\n",
              "      <td>Nina Scott</td>\n",
              "      <td>26</td>\n",
              "      <td>2</td>\n",
              "      <td>50000</td>\n",
              "    </tr>\n",
              "    <tr>\n",
              "      <th>14</th>\n",
              "      <td>Oscar Turner</td>\n",
              "      <td>37</td>\n",
              "      <td>14</td>\n",
              "      <td>90000</td>\n",
              "    </tr>\n",
              "    <tr>\n",
              "      <th>15</th>\n",
              "      <td>Paula Allen</td>\n",
              "      <td>34</td>\n",
              "      <td>11</td>\n",
              "      <td>82000</td>\n",
              "    </tr>\n",
              "  </tbody>\n",
              "</table>\n",
              "</div>\n",
              "    <div class=\"colab-df-buttons\">\n",
              "\n",
              "  <div class=\"colab-df-container\">\n",
              "    <button class=\"colab-df-convert\" onclick=\"convertToInteractive('df-2a53c5ca-8791-403e-acf6-6e3116120cd2')\"\n",
              "            title=\"Convert this dataframe to an interactive table.\"\n",
              "            style=\"display:none;\">\n",
              "\n",
              "  <svg xmlns=\"http://www.w3.org/2000/svg\" height=\"24px\" viewBox=\"0 -960 960 960\">\n",
              "    <path d=\"M120-120v-720h720v720H120Zm60-500h600v-160H180v160Zm220 220h160v-160H400v160Zm0 220h160v-160H400v160ZM180-400h160v-160H180v160Zm440 0h160v-160H620v160ZM180-180h160v-160H180v160Zm440 0h160v-160H620v160Z\"/>\n",
              "  </svg>\n",
              "    </button>\n",
              "\n",
              "  <style>\n",
              "    .colab-df-container {\n",
              "      display:flex;\n",
              "      gap: 12px;\n",
              "    }\n",
              "\n",
              "    .colab-df-convert {\n",
              "      background-color: #E8F0FE;\n",
              "      border: none;\n",
              "      border-radius: 50%;\n",
              "      cursor: pointer;\n",
              "      display: none;\n",
              "      fill: #1967D2;\n",
              "      height: 32px;\n",
              "      padding: 0 0 0 0;\n",
              "      width: 32px;\n",
              "    }\n",
              "\n",
              "    .colab-df-convert:hover {\n",
              "      background-color: #E2EBFA;\n",
              "      box-shadow: 0px 1px 2px rgba(60, 64, 67, 0.3), 0px 1px 3px 1px rgba(60, 64, 67, 0.15);\n",
              "      fill: #174EA6;\n",
              "    }\n",
              "\n",
              "    .colab-df-buttons div {\n",
              "      margin-bottom: 4px;\n",
              "    }\n",
              "\n",
              "    [theme=dark] .colab-df-convert {\n",
              "      background-color: #3B4455;\n",
              "      fill: #D2E3FC;\n",
              "    }\n",
              "\n",
              "    [theme=dark] .colab-df-convert:hover {\n",
              "      background-color: #434B5C;\n",
              "      box-shadow: 0px 1px 3px 1px rgba(0, 0, 0, 0.15);\n",
              "      filter: drop-shadow(0px 1px 2px rgba(0, 0, 0, 0.3));\n",
              "      fill: #FFFFFF;\n",
              "    }\n",
              "  </style>\n",
              "\n",
              "    <script>\n",
              "      const buttonEl =\n",
              "        document.querySelector('#df-2a53c5ca-8791-403e-acf6-6e3116120cd2 button.colab-df-convert');\n",
              "      buttonEl.style.display =\n",
              "        google.colab.kernel.accessAllowed ? 'block' : 'none';\n",
              "\n",
              "      async function convertToInteractive(key) {\n",
              "        const element = document.querySelector('#df-2a53c5ca-8791-403e-acf6-6e3116120cd2');\n",
              "        const dataTable =\n",
              "          await google.colab.kernel.invokeFunction('convertToInteractive',\n",
              "                                                    [key], {});\n",
              "        if (!dataTable) return;\n",
              "\n",
              "        const docLinkHtml = 'Like what you see? Visit the ' +\n",
              "          '<a target=\"_blank\" href=https://colab.research.google.com/notebooks/data_table.ipynb>data table notebook</a>'\n",
              "          + ' to learn more about interactive tables.';\n",
              "        element.innerHTML = '';\n",
              "        dataTable['output_type'] = 'display_data';\n",
              "        await google.colab.output.renderOutput(dataTable, element);\n",
              "        const docLink = document.createElement('div');\n",
              "        docLink.innerHTML = docLinkHtml;\n",
              "        element.appendChild(docLink);\n",
              "      }\n",
              "    </script>\n",
              "  </div>\n",
              "\n",
              "\n",
              "<div id=\"df-78d20ced-57b3-4506-aaef-deb1eeadfe2b\">\n",
              "  <button class=\"colab-df-quickchart\" onclick=\"quickchart('df-78d20ced-57b3-4506-aaef-deb1eeadfe2b')\"\n",
              "            title=\"Suggest charts\"\n",
              "            style=\"display:none;\">\n",
              "\n",
              "<svg xmlns=\"http://www.w3.org/2000/svg\" height=\"24px\"viewBox=\"0 0 24 24\"\n",
              "     width=\"24px\">\n",
              "    <g>\n",
              "        <path d=\"M19 3H5c-1.1 0-2 .9-2 2v14c0 1.1.9 2 2 2h14c1.1 0 2-.9 2-2V5c0-1.1-.9-2-2-2zM9 17H7v-7h2v7zm4 0h-2V7h2v10zm4 0h-2v-4h2v4z\"/>\n",
              "    </g>\n",
              "</svg>\n",
              "  </button>\n",
              "\n",
              "<style>\n",
              "  .colab-df-quickchart {\n",
              "      --bg-color: #E8F0FE;\n",
              "      --fill-color: #1967D2;\n",
              "      --hover-bg-color: #E2EBFA;\n",
              "      --hover-fill-color: #174EA6;\n",
              "      --disabled-fill-color: #AAA;\n",
              "      --disabled-bg-color: #DDD;\n",
              "  }\n",
              "\n",
              "  [theme=dark] .colab-df-quickchart {\n",
              "      --bg-color: #3B4455;\n",
              "      --fill-color: #D2E3FC;\n",
              "      --hover-bg-color: #434B5C;\n",
              "      --hover-fill-color: #FFFFFF;\n",
              "      --disabled-bg-color: #3B4455;\n",
              "      --disabled-fill-color: #666;\n",
              "  }\n",
              "\n",
              "  .colab-df-quickchart {\n",
              "    background-color: var(--bg-color);\n",
              "    border: none;\n",
              "    border-radius: 50%;\n",
              "    cursor: pointer;\n",
              "    display: none;\n",
              "    fill: var(--fill-color);\n",
              "    height: 32px;\n",
              "    padding: 0;\n",
              "    width: 32px;\n",
              "  }\n",
              "\n",
              "  .colab-df-quickchart:hover {\n",
              "    background-color: var(--hover-bg-color);\n",
              "    box-shadow: 0 1px 2px rgba(60, 64, 67, 0.3), 0 1px 3px 1px rgba(60, 64, 67, 0.15);\n",
              "    fill: var(--button-hover-fill-color);\n",
              "  }\n",
              "\n",
              "  .colab-df-quickchart-complete:disabled,\n",
              "  .colab-df-quickchart-complete:disabled:hover {\n",
              "    background-color: var(--disabled-bg-color);\n",
              "    fill: var(--disabled-fill-color);\n",
              "    box-shadow: none;\n",
              "  }\n",
              "\n",
              "  .colab-df-spinner {\n",
              "    border: 2px solid var(--fill-color);\n",
              "    border-color: transparent;\n",
              "    border-bottom-color: var(--fill-color);\n",
              "    animation:\n",
              "      spin 1s steps(1) infinite;\n",
              "  }\n",
              "\n",
              "  @keyframes spin {\n",
              "    0% {\n",
              "      border-color: transparent;\n",
              "      border-bottom-color: var(--fill-color);\n",
              "      border-left-color: var(--fill-color);\n",
              "    }\n",
              "    20% {\n",
              "      border-color: transparent;\n",
              "      border-left-color: var(--fill-color);\n",
              "      border-top-color: var(--fill-color);\n",
              "    }\n",
              "    30% {\n",
              "      border-color: transparent;\n",
              "      border-left-color: var(--fill-color);\n",
              "      border-top-color: var(--fill-color);\n",
              "      border-right-color: var(--fill-color);\n",
              "    }\n",
              "    40% {\n",
              "      border-color: transparent;\n",
              "      border-right-color: var(--fill-color);\n",
              "      border-top-color: var(--fill-color);\n",
              "    }\n",
              "    60% {\n",
              "      border-color: transparent;\n",
              "      border-right-color: var(--fill-color);\n",
              "    }\n",
              "    80% {\n",
              "      border-color: transparent;\n",
              "      border-right-color: var(--fill-color);\n",
              "      border-bottom-color: var(--fill-color);\n",
              "    }\n",
              "    90% {\n",
              "      border-color: transparent;\n",
              "      border-bottom-color: var(--fill-color);\n",
              "    }\n",
              "  }\n",
              "</style>\n",
              "\n",
              "  <script>\n",
              "    async function quickchart(key) {\n",
              "      const quickchartButtonEl =\n",
              "        document.querySelector('#' + key + ' button');\n",
              "      quickchartButtonEl.disabled = true;  // To prevent multiple clicks.\n",
              "      quickchartButtonEl.classList.add('colab-df-spinner');\n",
              "      try {\n",
              "        const charts = await google.colab.kernel.invokeFunction(\n",
              "            'suggestCharts', [key], {});\n",
              "      } catch (error) {\n",
              "        console.error('Error during call to suggestCharts:', error);\n",
              "      }\n",
              "      quickchartButtonEl.classList.remove('colab-df-spinner');\n",
              "      quickchartButtonEl.classList.add('colab-df-quickchart-complete');\n",
              "    }\n",
              "    (() => {\n",
              "      let quickchartButtonEl =\n",
              "        document.querySelector('#df-78d20ced-57b3-4506-aaef-deb1eeadfe2b button');\n",
              "      quickchartButtonEl.style.display =\n",
              "        google.colab.kernel.accessAllowed ? 'block' : 'none';\n",
              "    })();\n",
              "  </script>\n",
              "</div>\n",
              "\n",
              "    </div>\n",
              "  </div>\n"
            ],
            "application/vnd.google.colaboratory.intrinsic+json": {
              "type": "dataframe",
              "summary": "{\n  \"name\": \"pd\",\n  \"rows\": 16,\n  \"fields\": [\n    {\n      \"column\": \"Name\",\n      \"properties\": {\n        \"dtype\": \"string\",\n        \"num_unique_values\": 16,\n        \"samples\": [\n          \"Alice Smith\",\n          \"Bob Johnson\",\n          \"Fiona Green\"\n        ],\n        \"semantic_type\": \"\",\n        \"description\": \"\"\n      }\n    },\n    {\n      \"column\": \"Age\",\n      \"properties\": {\n        \"dtype\": \"number\",\n        \"std\": 7,\n        \"min\": 22,\n        \"max\": 50,\n        \"num_unique_values\": 16,\n        \"samples\": [\n          28,\n          35,\n          27\n        ],\n        \"semantic_type\": \"\",\n        \"description\": \"\"\n      }\n    },\n    {\n      \"column\": \"Experience\",\n      \"properties\": {\n        \"dtype\": \"number\",\n        \"std\": 5,\n        \"min\": 1,\n        \"max\": 20,\n        \"num_unique_values\": 16,\n        \"samples\": [\n          5,\n          10,\n          3\n        ],\n        \"semantic_type\": \"\",\n        \"description\": \"\"\n      }\n    },\n    {\n      \"column\": \"Salary\",\n      \"properties\": {\n        \"dtype\": \"number\",\n        \"std\": 21709,\n        \"min\": 45000,\n        \"max\": 120000,\n        \"num_unique_values\": 16,\n        \"samples\": [\n          60000,\n          85000,\n          55000\n        ],\n        \"semantic_type\": \"\",\n        \"description\": \"\"\n      }\n    }\n  ]\n}"
            }
          },
          "metadata": {},
          "execution_count": 3
        }
      ]
    },
    {
      "cell_type": "code",
      "source": [
        "#Start session\n",
        "spark = SparkSession.builder.appName('Practice').getOrCreate()\n",
        "\n",
        "#Read dataset and store in variable\n",
        "df_pyspark = spark.read.option('header','true').csv('/content/sample_data/employees.csv')\n",
        "df_pyspark.show()"
      ],
      "metadata": {
        "colab": {
          "base_uri": "https://localhost:8080/"
        },
        "id": "N0hcfXBOy1AI",
        "outputId": "1c4836ac-b303-4a87-d784-d2e6430740c9"
      },
      "execution_count": null,
      "outputs": [
        {
          "output_type": "stream",
          "name": "stdout",
          "text": [
            "+--------------+---+----------+------+\n",
            "|          Name|Age|Experience|Salary|\n",
            "+--------------+---+----------+------+\n",
            "|   Alice Smith| 28|         5| 60000|\n",
            "|   Bob Johnson| 35|        10| 85000|\n",
            "| Charlie Brown| 22|         1| 45000|\n",
            "|   Diana White| 30|         7| 70000|\n",
            "|   Ethan Clark| 40|        15| 95000|\n",
            "|   Fiona Green| 27|         3| 55000|\n",
            "| George Harris| 50|        20|120000|\n",
            "|    Hannah Lee| 29|         6| 65000|\n",
            "|    Ian Walker| 33|        12| 80000|\n",
            "|   Julia Adams| 25|         4| 48000|\n",
            "|  Kevin Martin| 38|         9| 72000|\n",
            "|Laura Thompson| 31|         8| 78000|\n",
            "|  Michael King| 45|        18|110000|\n",
            "|    Nina Scott| 26|         2| 50000|\n",
            "|  Oscar Turner| 37|        14| 90000|\n",
            "|   Paula Allen| 34|        11| 82000|\n",
            "+--------------+---+----------+------+\n",
            "\n"
          ]
        }
      ]
    },
    {
      "cell_type": "code",
      "source": [
        "df_pyspark = spark.read.csv('/content/sample_data/employees.csv', header = True, inferSchema = True)"
      ],
      "metadata": {
        "id": "AgQR18kv1b4A"
      },
      "execution_count": null,
      "outputs": []
    },
    {
      "cell_type": "code",
      "source": [
        "spark.read.option('header','true').csv('/content/sample_data/employees.csv', inferSchema = True)"
      ],
      "metadata": {
        "colab": {
          "base_uri": "https://localhost:8080/"
        },
        "id": "UiBqrjO8146g",
        "outputId": "053c883f-202f-4abe-8f40-5ecd569e4e63"
      },
      "execution_count": null,
      "outputs": [
        {
          "output_type": "execute_result",
          "data": {
            "text/plain": [
              "DataFrame[Name: string, Age: int, Experience: int, Salary: int]"
            ]
          },
          "metadata": {},
          "execution_count": 14
        }
      ]
    },
    {
      "cell_type": "code",
      "source": [
        "#Type of the data\n",
        "type(df_pyspark)"
      ],
      "metadata": {
        "colab": {
          "base_uri": "https://localhost:8080/",
          "height": 187
        },
        "id": "IBRronLu2A74",
        "outputId": "5e466d37-a559-468b-f327-0e5a61160a02"
      },
      "execution_count": null,
      "outputs": [
        {
          "output_type": "execute_result",
          "data": {
            "text/plain": [
              "pyspark.sql.dataframe.DataFrame"
            ],
            "text/html": [
              "<div style=\"max-width:800px; border: 1px solid var(--colab-border-color);\"><style>\n",
              "      pre.function-repr-contents {\n",
              "        overflow-x: auto;\n",
              "        padding: 8px 12px;\n",
              "        max-height: 500px;\n",
              "      }\n",
              "\n",
              "      pre.function-repr-contents.function-repr-contents-collapsed {\n",
              "        cursor: pointer;\n",
              "        max-height: 100px;\n",
              "      }\n",
              "    </style>\n",
              "    <pre style=\"white-space: initial; background:\n",
              "         var(--colab-secondary-surface-color); padding: 8px 12px;\n",
              "         border-bottom: 1px solid var(--colab-border-color);\"><b>pyspark.sql.dataframe.DataFrame</b><br/>def __init__(jdf: JavaObject, sql_ctx: Union[&#x27;SQLContext&#x27;, &#x27;SparkSession&#x27;])</pre><pre class=\"function-repr-contents function-repr-contents-collapsed\" style=\"\"><a class=\"filepath\" style=\"display:none\" href=\"#\">/usr/local/lib/python3.10/dist-packages/pyspark/sql/dataframe.py</a>A distributed collection of data grouped into named columns.\n",
              "\n",
              ".. versionadded:: 1.3.0\n",
              "\n",
              ".. versionchanged:: 3.4.0\n",
              "    Supports Spark Connect.\n",
              "\n",
              "Examples\n",
              "--------\n",
              "A :class:`DataFrame` is equivalent to a relational table in Spark SQL,\n",
              "and can be created using various functions in :class:`SparkSession`:\n",
              "\n",
              "&gt;&gt;&gt; people = spark.createDataFrame([\n",
              "...     {&quot;deptId&quot;: 1, &quot;age&quot;: 40, &quot;name&quot;: &quot;Hyukjin Kwon&quot;, &quot;gender&quot;: &quot;M&quot;, &quot;salary&quot;: 50},\n",
              "...     {&quot;deptId&quot;: 1, &quot;age&quot;: 50, &quot;name&quot;: &quot;Takuya Ueshin&quot;, &quot;gender&quot;: &quot;M&quot;, &quot;salary&quot;: 100},\n",
              "...     {&quot;deptId&quot;: 2, &quot;age&quot;: 60, &quot;name&quot;: &quot;Xinrong Meng&quot;, &quot;gender&quot;: &quot;F&quot;, &quot;salary&quot;: 150},\n",
              "...     {&quot;deptId&quot;: 3, &quot;age&quot;: 20, &quot;name&quot;: &quot;Haejoon Lee&quot;, &quot;gender&quot;: &quot;M&quot;, &quot;salary&quot;: 200}\n",
              "... ])\n",
              "\n",
              "Once created, it can be manipulated using the various domain-specific-language\n",
              "(DSL) functions defined in: :class:`DataFrame`, :class:`Column`.\n",
              "\n",
              "To select a column from the :class:`DataFrame`, use the apply method:\n",
              "\n",
              "&gt;&gt;&gt; age_col = people.age\n",
              "\n",
              "A more concrete example:\n",
              "\n",
              "&gt;&gt;&gt; # To create DataFrame using SparkSession\n",
              "... department = spark.createDataFrame([\n",
              "...     {&quot;id&quot;: 1, &quot;name&quot;: &quot;PySpark&quot;},\n",
              "...     {&quot;id&quot;: 2, &quot;name&quot;: &quot;ML&quot;},\n",
              "...     {&quot;id&quot;: 3, &quot;name&quot;: &quot;Spark SQL&quot;}\n",
              "... ])\n",
              "\n",
              "&gt;&gt;&gt; people.filter(people.age &gt; 30).join(\n",
              "...     department, people.deptId == department.id).groupBy(\n",
              "...     department.name, &quot;gender&quot;).agg({&quot;salary&quot;: &quot;avg&quot;, &quot;age&quot;: &quot;max&quot;}).show()\n",
              "+-------+------+-----------+--------+\n",
              "|   name|gender|avg(salary)|max(age)|\n",
              "+-------+------+-----------+--------+\n",
              "|     ML|     F|      150.0|      60|\n",
              "|PySpark|     M|       75.0|      50|\n",
              "+-------+------+-----------+--------+\n",
              "\n",
              "Notes\n",
              "-----\n",
              "A DataFrame should only be created as described above. It should not be directly\n",
              "created via using the constructor.</pre>\n",
              "      <script>\n",
              "      if (google.colab.kernel.accessAllowed && google.colab.files && google.colab.files.view) {\n",
              "        for (const element of document.querySelectorAll('.filepath')) {\n",
              "          element.style.display = 'block'\n",
              "          element.onclick = (event) => {\n",
              "            event.preventDefault();\n",
              "            event.stopPropagation();\n",
              "            google.colab.files.view(element.textContent, 80);\n",
              "          };\n",
              "        }\n",
              "      }\n",
              "      for (const element of document.querySelectorAll('.function-repr-contents')) {\n",
              "        element.onclick = (event) => {\n",
              "          event.preventDefault();\n",
              "          event.stopPropagation();\n",
              "          element.classList.toggle('function-repr-contents-collapsed');\n",
              "        };\n",
              "      }\n",
              "      </script>\n",
              "      </div>"
            ]
          },
          "metadata": {},
          "execution_count": 15
        }
      ]
    },
    {
      "cell_type": "code",
      "source": [
        "#Check Schema\n",
        "df_pyspark.printSchema()"
      ],
      "metadata": {
        "colab": {
          "base_uri": "https://localhost:8080/"
        },
        "id": "7bAotIIg3O_5",
        "outputId": "6a486a59-a0ca-47a0-abbd-c4859e393dbc"
      },
      "execution_count": null,
      "outputs": [
        {
          "output_type": "stream",
          "name": "stdout",
          "text": [
            "root\n",
            " |-- Name: string (nullable = true)\n",
            " |-- Age: integer (nullable = true)\n",
            " |-- Experience: integer (nullable = true)\n",
            " |-- Salary: integer (nullable = true)\n",
            "\n"
          ]
        }
      ]
    },
    {
      "cell_type": "code",
      "source": [
        "#First 3 data values\n",
        "df_pyspark.head(3)"
      ],
      "metadata": {
        "colab": {
          "base_uri": "https://localhost:8080/"
        },
        "id": "qKNXLvBv3S_Y",
        "outputId": "05c4e58f-1457-4979-a87c-fffffc93c113"
      },
      "execution_count": null,
      "outputs": [
        {
          "output_type": "execute_result",
          "data": {
            "text/plain": [
              "[Row(Name='Alice Smith', Age=28, Experience=5, Salary=60000),\n",
              " Row(Name='Bob Johnson', Age=35, Experience=10, Salary=85000),\n",
              " Row(Name='Charlie Brown', Age=22, Experience=1, Salary=45000)]"
            ]
          },
          "metadata": {},
          "execution_count": 17
        }
      ]
    },
    {
      "cell_type": "code",
      "source": [
        "#to get name of teh columns\n",
        "df_pyspark.columns"
      ],
      "metadata": {
        "colab": {
          "base_uri": "https://localhost:8080/"
        },
        "id": "BeInUDzr3WzZ",
        "outputId": "9be88107-a458-41e5-cb36-da352b105065"
      },
      "execution_count": null,
      "outputs": [
        {
          "output_type": "execute_result",
          "data": {
            "text/plain": [
              "['Name', 'Age', 'Experience', 'Salary']"
            ]
          },
          "metadata": {},
          "execution_count": 18
        }
      ]
    },
    {
      "cell_type": "code",
      "source": [
        "#selecting specific columns in the output\n",
        "df_pyspark.select('Name').show()\n",
        "df_pyspark.select(['Name','Experience']).show()"
      ],
      "metadata": {
        "colab": {
          "base_uri": "https://localhost:8080/"
        },
        "id": "rC9sMUwh46TZ",
        "outputId": "716853b2-fb27-40be-e02c-c241b44b97ed"
      },
      "execution_count": null,
      "outputs": [
        {
          "output_type": "stream",
          "name": "stdout",
          "text": [
            "+--------------+\n",
            "|          Name|\n",
            "+--------------+\n",
            "|   Alice Smith|\n",
            "|   Bob Johnson|\n",
            "| Charlie Brown|\n",
            "|   Diana White|\n",
            "|   Ethan Clark|\n",
            "|   Fiona Green|\n",
            "| George Harris|\n",
            "|    Hannah Lee|\n",
            "|    Ian Walker|\n",
            "|   Julia Adams|\n",
            "|  Kevin Martin|\n",
            "|Laura Thompson|\n",
            "|  Michael King|\n",
            "|    Nina Scott|\n",
            "|  Oscar Turner|\n",
            "|   Paula Allen|\n",
            "+--------------+\n",
            "\n",
            "+--------------+----------+\n",
            "|          Name|Experience|\n",
            "+--------------+----------+\n",
            "|   Alice Smith|         5|\n",
            "|   Bob Johnson|        10|\n",
            "| Charlie Brown|         1|\n",
            "|   Diana White|         7|\n",
            "|   Ethan Clark|        15|\n",
            "|   Fiona Green|         3|\n",
            "| George Harris|        20|\n",
            "|    Hannah Lee|         6|\n",
            "|    Ian Walker|        12|\n",
            "|   Julia Adams|         4|\n",
            "|  Kevin Martin|         9|\n",
            "|Laura Thompson|         8|\n",
            "|  Michael King|        18|\n",
            "|    Nina Scott|         2|\n",
            "|  Oscar Turner|        14|\n",
            "|   Paula Allen|        11|\n",
            "+--------------+----------+\n",
            "\n"
          ]
        }
      ]
    },
    {
      "cell_type": "code",
      "source": [
        "#to check datatypes\n",
        "df_pyspark.dtypes"
      ],
      "metadata": {
        "colab": {
          "base_uri": "https://localhost:8080/"
        },
        "id": "QKWuWTPG5JZ9",
        "outputId": "f1b8b816-a072-4642-caaf-05fb0d3faf4d"
      },
      "execution_count": null,
      "outputs": [
        {
          "output_type": "execute_result",
          "data": {
            "text/plain": [
              "[('Name', 'string'), ('Age', 'int'), ('Experience', 'int'), ('Salary', 'int')]"
            ]
          },
          "metadata": {},
          "execution_count": 21
        }
      ]
    },
    {
      "cell_type": "code",
      "source": [
        "#to describe the dataset\n",
        "df_pyspark.describe().show()"
      ],
      "metadata": {
        "colab": {
          "base_uri": "https://localhost:8080/"
        },
        "id": "VR3MCWKX5NX9",
        "outputId": "6f4779f0-8177-47db-8623-352146c39964"
      },
      "execution_count": null,
      "outputs": [
        {
          "output_type": "stream",
          "name": "stdout",
          "text": [
            "+-------+-----------+-----------------+------------------+------------------+\n",
            "|summary|       Name|              Age|        Experience|            Salary|\n",
            "+-------+-----------+-----------------+------------------+------------------+\n",
            "|  count|         16|               16|                16|                16|\n",
            "|   mean|       NULL|           33.125|            9.0625|           75312.5|\n",
            "| stddev|       NULL|7.535471672916921|5.6623758264530615|21709.348984558088|\n",
            "|    min|Alice Smith|               22|                 1|             45000|\n",
            "|    max|Paula Allen|               50|                20|            120000|\n",
            "+-------+-----------+-----------------+------------------+------------------+\n",
            "\n"
          ]
        }
      ]
    },
    {
      "cell_type": "code",
      "source": [
        "#adding column in teh data frame\n",
        "df_pyspark = df_pyspark.withColumn('Experience After 2 years', df_pyspark['Experience']+2)\n",
        "df_pyspark.show()"
      ],
      "metadata": {
        "colab": {
          "base_uri": "https://localhost:8080/"
        },
        "id": "XmJ6rt4B5Q31",
        "outputId": "0038d20b-6af6-49e0-c4e1-435d62fbbea8"
      },
      "execution_count": null,
      "outputs": [
        {
          "output_type": "stream",
          "name": "stdout",
          "text": [
            "+--------------+---+----------+------+------------------------+\n",
            "|          Name|Age|Experience|Salary|Experience After 2 years|\n",
            "+--------------+---+----------+------+------------------------+\n",
            "|   Alice Smith| 28|         5| 60000|                       7|\n",
            "|   Bob Johnson| 35|        10| 85000|                      12|\n",
            "| Charlie Brown| 22|         1| 45000|                       3|\n",
            "|   Diana White| 30|         7| 70000|                       9|\n",
            "|   Ethan Clark| 40|        15| 95000|                      17|\n",
            "|   Fiona Green| 27|         3| 55000|                       5|\n",
            "| George Harris| 50|        20|120000|                      22|\n",
            "|    Hannah Lee| 29|         6| 65000|                       8|\n",
            "|    Ian Walker| 33|        12| 80000|                      14|\n",
            "|   Julia Adams| 25|         4| 48000|                       6|\n",
            "|  Kevin Martin| 38|         9| 72000|                      11|\n",
            "|Laura Thompson| 31|         8| 78000|                      10|\n",
            "|  Michael King| 45|        18|110000|                      20|\n",
            "|    Nina Scott| 26|         2| 50000|                       4|\n",
            "|  Oscar Turner| 37|        14| 90000|                      16|\n",
            "|   Paula Allen| 34|        11| 82000|                      13|\n",
            "+--------------+---+----------+------+------------------------+\n",
            "\n"
          ]
        }
      ]
    },
    {
      "cell_type": "code",
      "source": [
        "#drop the columns\n",
        "df_pyspark = df_pyspark.drop('Experience After 2 years')\n",
        "df_pyspark.show()"
      ],
      "metadata": {
        "colab": {
          "base_uri": "https://localhost:8080/"
        },
        "id": "vD4BY26z5Yy8",
        "outputId": "198ec956-b458-49f2-bb3a-29c0f5334cda"
      },
      "execution_count": null,
      "outputs": [
        {
          "output_type": "stream",
          "name": "stdout",
          "text": [
            "+--------------+---+----------+------+\n",
            "|          Name|Age|Experience|Salary|\n",
            "+--------------+---+----------+------+\n",
            "|   Alice Smith| 28|         5| 60000|\n",
            "|   Bob Johnson| 35|        10| 85000|\n",
            "| Charlie Brown| 22|         1| 45000|\n",
            "|   Diana White| 30|         7| 70000|\n",
            "|   Ethan Clark| 40|        15| 95000|\n",
            "|   Fiona Green| 27|         3| 55000|\n",
            "| George Harris| 50|        20|120000|\n",
            "|    Hannah Lee| 29|         6| 65000|\n",
            "|    Ian Walker| 33|        12| 80000|\n",
            "|   Julia Adams| 25|         4| 48000|\n",
            "|  Kevin Martin| 38|         9| 72000|\n",
            "|Laura Thompson| 31|         8| 78000|\n",
            "|  Michael King| 45|        18|110000|\n",
            "|    Nina Scott| 26|         2| 50000|\n",
            "|  Oscar Turner| 37|        14| 90000|\n",
            "|   Paula Allen| 34|        11| 82000|\n",
            "+--------------+---+----------+------+\n",
            "\n"
          ]
        }
      ]
    },
    {
      "cell_type": "markdown",
      "source": [
        "Modifying the CSV files content"
      ],
      "metadata": {
        "id": "hiIgOlN270RN"
      }
    },
    {
      "cell_type": "code",
      "source": [
        "#rename the columns\n",
        "df_pyspark.withColumnRenamed('Name','New Name')\n",
        "df_pyspark.show()"
      ],
      "metadata": {
        "colab": {
          "base_uri": "https://localhost:8080/"
        },
        "id": "-gvMO24o7fvt",
        "outputId": "a762def7-45f3-478b-bf6f-59990a185367"
      },
      "execution_count": null,
      "outputs": [
        {
          "output_type": "stream",
          "name": "stdout",
          "text": [
            "+--------------+---+----------+------+\n",
            "|          Name|Age|Experience|Salary|\n",
            "+--------------+---+----------+------+\n",
            "|   Alice Smith| 28|         5| 60000|\n",
            "|   Bob Johnson| 35|        10| 85000|\n",
            "| Charlie Brown| 22|         1| 45000|\n",
            "|   Diana White| 30|         7| 70000|\n",
            "|   Ethan Clark| 40|        15| 95000|\n",
            "|   Fiona Green| 27|         3| 55000|\n",
            "| George Harris| 50|        20|120000|\n",
            "|    Hannah Lee| 29|         6| 65000|\n",
            "|    Ian Walker| 33|        12| 80000|\n",
            "|   Julia Adams| 25|         4| 48000|\n",
            "|  Kevin Martin| 38|         9| 72000|\n",
            "|Laura Thompson| 31|         8| 78000|\n",
            "|  Michael King| 45|        18|110000|\n",
            "|    Nina Scott| 26|         2| 50000|\n",
            "|  Oscar Turner| 37|        14| 90000|\n",
            "|   Paula Allen| 34|        11| 82000|\n",
            "+--------------+---+----------+------+\n",
            "\n"
          ]
        }
      ]
    },
    {
      "cell_type": "code",
      "source": [
        "df_pyspark.na.drop().show()"
      ],
      "metadata": {
        "colab": {
          "base_uri": "https://localhost:8080/"
        },
        "id": "dCGpRsjC75s1",
        "outputId": "fb6a4053-c0b0-4b57-8360-8ff5d6984fa5"
      },
      "execution_count": null,
      "outputs": [
        {
          "output_type": "stream",
          "name": "stdout",
          "text": [
            "+--------------+---+----------+------+\n",
            "|          Name|Age|Experience|Salary|\n",
            "+--------------+---+----------+------+\n",
            "|   Alice Smith| 28|         5| 60000|\n",
            "|   Bob Johnson| 35|        10| 85000|\n",
            "| Charlie Brown| 22|         1| 45000|\n",
            "|   Diana White| 30|         7| 70000|\n",
            "|   Ethan Clark| 40|        15| 95000|\n",
            "|   Fiona Green| 27|         3| 55000|\n",
            "| George Harris| 50|        20|120000|\n",
            "|    Hannah Lee| 29|         6| 65000|\n",
            "|    Ian Walker| 33|        12| 80000|\n",
            "|   Julia Adams| 25|         4| 48000|\n",
            "|  Kevin Martin| 38|         9| 72000|\n",
            "|Laura Thompson| 31|         8| 78000|\n",
            "|  Michael King| 45|        18|110000|\n",
            "|    Nina Scott| 26|         2| 50000|\n",
            "|  Oscar Turner| 37|        14| 90000|\n",
            "|   Paula Allen| 34|        11| 82000|\n",
            "+--------------+---+----------+------+\n",
            "\n"
          ]
        }
      ]
    },
    {
      "cell_type": "code",
      "source": [
        "#any==how\n",
        "df_pyspark.na.drop(how=\"all\").show()\n"
      ],
      "metadata": {
        "colab": {
          "base_uri": "https://localhost:8080/"
        },
        "id": "KFoxHkjs8inN",
        "outputId": "eca56856-cd99-47a5-a345-24d95bef2aa8"
      },
      "execution_count": null,
      "outputs": [
        {
          "output_type": "stream",
          "name": "stdout",
          "text": [
            "+--------------+---+----------+------+\n",
            "|          Name|Age|Experience|Salary|\n",
            "+--------------+---+----------+------+\n",
            "|   Alice Smith| 28|         5| 60000|\n",
            "|   Bob Johnson| 35|        10| 85000|\n",
            "| Charlie Brown| 22|         1| 45000|\n",
            "|   Diana White| 30|         7| 70000|\n",
            "|   Ethan Clark| 40|        15| 95000|\n",
            "|   Fiona Green| 27|         3| 55000|\n",
            "| George Harris| 50|        20|120000|\n",
            "|    Hannah Lee| 29|         6| 65000|\n",
            "|    Ian Walker| 33|        12| 80000|\n",
            "|   Julia Adams| 25|         4| 48000|\n",
            "|  Kevin Martin| 38|         9| 72000|\n",
            "|Laura Thompson| 31|         8| 78000|\n",
            "|  Michael King| 45|        18|110000|\n",
            "|    Nina Scott| 26|         2| 50000|\n",
            "|  Oscar Turner| 37|        14| 90000|\n",
            "|   Paula Allen| 34|        11| 82000|\n",
            "+--------------+---+----------+------+\n",
            "\n"
          ]
        }
      ]
    },
    {
      "cell_type": "code",
      "source": [
        "df_pyspark.na.drop(how=\"any\").show()"
      ],
      "metadata": {
        "colab": {
          "base_uri": "https://localhost:8080/"
        },
        "id": "1hlZEvlG8sCs",
        "outputId": "9cf642ae-20a1-4a10-ee68-d4f385cc44ff"
      },
      "execution_count": null,
      "outputs": [
        {
          "output_type": "stream",
          "name": "stdout",
          "text": [
            "+--------------+---+----------+------+\n",
            "|          Name|Age|Experience|Salary|\n",
            "+--------------+---+----------+------+\n",
            "|   Alice Smith| 28|         5| 60000|\n",
            "|   Bob Johnson| 35|        10| 85000|\n",
            "| Charlie Brown| 22|         1| 45000|\n",
            "|   Diana White| 30|         7| 70000|\n",
            "|   Ethan Clark| 40|        15| 95000|\n",
            "|   Fiona Green| 27|         3| 55000|\n",
            "| George Harris| 50|        20|120000|\n",
            "|    Hannah Lee| 29|         6| 65000|\n",
            "|    Ian Walker| 33|        12| 80000|\n",
            "|   Julia Adams| 25|         4| 48000|\n",
            "|  Kevin Martin| 38|         9| 72000|\n",
            "|Laura Thompson| 31|         8| 78000|\n",
            "|  Michael King| 45|        18|110000|\n",
            "|    Nina Scott| 26|         2| 50000|\n",
            "|  Oscar Turner| 37|        14| 90000|\n",
            "|   Paula Allen| 34|        11| 82000|\n",
            "+--------------+---+----------+------+\n",
            "\n"
          ]
        }
      ]
    },
    {
      "cell_type": "code",
      "source": [
        "df_pyspark.na.drop(how=\"any\", thresh = 2).show()"
      ],
      "metadata": {
        "colab": {
          "base_uri": "https://localhost:8080/"
        },
        "id": "jeM3MNuq8u0k",
        "outputId": "b56a298c-bbeb-4f8b-9faf-04e0f321eb2e"
      },
      "execution_count": null,
      "outputs": [
        {
          "output_type": "stream",
          "name": "stdout",
          "text": [
            "+--------------+---+----------+------+\n",
            "|          Name|Age|Experience|Salary|\n",
            "+--------------+---+----------+------+\n",
            "|   Alice Smith| 28|         5| 60000|\n",
            "|   Bob Johnson| 35|        10| 85000|\n",
            "| Charlie Brown| 22|         1| 45000|\n",
            "|   Diana White| 30|         7| 70000|\n",
            "|   Ethan Clark| 40|        15| 95000|\n",
            "|   Fiona Green| 27|         3| 55000|\n",
            "| George Harris| 50|        20|120000|\n",
            "|    Hannah Lee| 29|         6| 65000|\n",
            "|    Ian Walker| 33|        12| 80000|\n",
            "|   Julia Adams| 25|         4| 48000|\n",
            "|  Kevin Martin| 38|         9| 72000|\n",
            "|Laura Thompson| 31|         8| 78000|\n",
            "|  Michael King| 45|        18|110000|\n",
            "|    Nina Scott| 26|         2| 50000|\n",
            "|  Oscar Turner| 37|        14| 90000|\n",
            "|   Paula Allen| 34|        11| 82000|\n",
            "+--------------+---+----------+------+\n",
            "\n"
          ]
        }
      ]
    },
    {
      "cell_type": "code",
      "source": [
        "df_pyspark.na.drop(how=\"any\", subset = ['Experience']).show()"
      ],
      "metadata": {
        "colab": {
          "base_uri": "https://localhost:8080/"
        },
        "id": "bn3UW4Xf81xF",
        "outputId": "1d39c654-a39d-44c3-e39d-1b4af484d044"
      },
      "execution_count": null,
      "outputs": [
        {
          "output_type": "stream",
          "name": "stdout",
          "text": [
            "+--------------+---+----------+------+\n",
            "|          Name|Age|Experience|Salary|\n",
            "+--------------+---+----------+------+\n",
            "|   Alice Smith| 28|         5| 60000|\n",
            "|   Bob Johnson| 35|        10| 85000|\n",
            "| Charlie Brown| 22|         1| 45000|\n",
            "|   Diana White| 30|         7| 70000|\n",
            "|   Ethan Clark| 40|        15| 95000|\n",
            "|   Fiona Green| 27|         3| 55000|\n",
            "| George Harris| 50|        20|120000|\n",
            "|    Hannah Lee| 29|         6| 65000|\n",
            "|    Ian Walker| 33|        12| 80000|\n",
            "|   Julia Adams| 25|         4| 48000|\n",
            "|  Kevin Martin| 38|         9| 72000|\n",
            "|Laura Thompson| 31|         8| 78000|\n",
            "|  Michael King| 45|        18|110000|\n",
            "|    Nina Scott| 26|         2| 50000|\n",
            "|  Oscar Turner| 37|        14| 90000|\n",
            "|   Paula Allen| 34|        11| 82000|\n",
            "+--------------+---+----------+------+\n",
            "\n"
          ]
        }
      ]
    },
    {
      "cell_type": "code",
      "source": [
        "#filling the missing value\n",
        "df_pyspark.na.fill('Missing Values').show()"
      ],
      "metadata": {
        "colab": {
          "base_uri": "https://localhost:8080/"
        },
        "id": "G8b8uMluA9UH",
        "outputId": "b8364387-8d0b-4d03-ae87-b29531a792e7"
      },
      "execution_count": null,
      "outputs": [
        {
          "output_type": "stream",
          "name": "stdout",
          "text": [
            "+--------------+---+----------+------+\n",
            "|          Name|Age|Experience|Salary|\n",
            "+--------------+---+----------+------+\n",
            "|   Alice Smith| 28|         5| 60000|\n",
            "|   Bob Johnson| 35|        10| 85000|\n",
            "| Charlie Brown| 22|         1| 45000|\n",
            "|   Diana White| 30|         7| 70000|\n",
            "|   Ethan Clark| 40|        15| 95000|\n",
            "|   Fiona Green| 27|         3| 55000|\n",
            "| George Harris| 50|        20|120000|\n",
            "|    Hannah Lee| 29|         6| 65000|\n",
            "|    Ian Walker| 33|        12| 80000|\n",
            "|   Julia Adams| 25|         4| 48000|\n",
            "|  Kevin Martin| 38|         9| 72000|\n",
            "|Laura Thompson| 31|         8| 78000|\n",
            "|  Michael King| 45|        18|110000|\n",
            "|    Nina Scott| 26|         2| 50000|\n",
            "|  Oscar Turner| 37|        14| 90000|\n",
            "|   Paula Allen| 34|        11| 82000|\n",
            "+--------------+---+----------+------+\n",
            "\n"
          ]
        }
      ]
    },
    {
      "cell_type": "code",
      "source": [
        "df_pyspark.na.fill('Missing Values',['Experience','Age']).show()"
      ],
      "metadata": {
        "colab": {
          "base_uri": "https://localhost:8080/"
        },
        "id": "bZTrePOyChPv",
        "outputId": "59febcbe-f726-48e5-c23a-268951bc3a87"
      },
      "execution_count": null,
      "outputs": [
        {
          "output_type": "stream",
          "name": "stdout",
          "text": [
            "+--------------+---+----------+------+\n",
            "|          Name|Age|Experience|Salary|\n",
            "+--------------+---+----------+------+\n",
            "|   Alice Smith| 28|         5| 60000|\n",
            "|   Bob Johnson| 35|        10| 85000|\n",
            "| Charlie Brown| 22|         1| 45000|\n",
            "|   Diana White| 30|         7| 70000|\n",
            "|   Ethan Clark| 40|        15| 95000|\n",
            "|   Fiona Green| 27|         3| 55000|\n",
            "| George Harris| 50|        20|120000|\n",
            "|    Hannah Lee| 29|         6| 65000|\n",
            "|    Ian Walker| 33|        12| 80000|\n",
            "|   Julia Adams| 25|         4| 48000|\n",
            "|  Kevin Martin| 38|         9| 72000|\n",
            "|Laura Thompson| 31|         8| 78000|\n",
            "|  Michael King| 45|        18|110000|\n",
            "|    Nina Scott| 26|         2| 50000|\n",
            "|  Oscar Turner| 37|        14| 90000|\n",
            "|   Paula Allen| 34|        11| 82000|\n",
            "+--------------+---+----------+------+\n",
            "\n"
          ]
        }
      ]
    },
    {
      "cell_type": "code",
      "source": [
        "#writing the function to calculate the value at the place of null\n",
        "from pyspark.ml.feature import Imputer\n",
        "imputer = Imputer(\n",
        "    inputCols = ['Age','Experience','Salary'],\n",
        "    outputCols = [\"{}_imputed\".format(c) for c in ['Age','Experience','Salary']]\n",
        ").setStrategy(\"mean\")"
      ],
      "metadata": {
        "id": "16DtiOohCwVO"
      },
      "execution_count": null,
      "outputs": []
    },
    {
      "cell_type": "code",
      "source": [
        "#add imputation columns to df\n",
        "imputer.fit(df_pyspark).transform(df_pyspark).show()"
      ],
      "metadata": {
        "colab": {
          "base_uri": "https://localhost:8080/"
        },
        "id": "vtqPfUmmFkRm",
        "outputId": "6dc7be54-a8db-40de-a54e-285e2a80f4f6"
      },
      "execution_count": null,
      "outputs": [
        {
          "output_type": "stream",
          "name": "stdout",
          "text": [
            "+--------------+---+----------+------+-----------+------------------+--------------+\n",
            "|          Name|Age|Experience|Salary|Age_imputed|Experience_imputed|Salary_imputed|\n",
            "+--------------+---+----------+------+-----------+------------------+--------------+\n",
            "|   Alice Smith| 28|         5| 60000|         28|                 5|         60000|\n",
            "|   Bob Johnson| 35|        10| 85000|         35|                10|         85000|\n",
            "| Charlie Brown| 22|         1| 45000|         22|                 1|         45000|\n",
            "|   Diana White| 30|         7| 70000|         30|                 7|         70000|\n",
            "|   Ethan Clark| 40|        15| 95000|         40|                15|         95000|\n",
            "|   Fiona Green| 27|         3| 55000|         27|                 3|         55000|\n",
            "| George Harris| 50|        20|120000|         50|                20|        120000|\n",
            "|    Hannah Lee| 29|         6| 65000|         29|                 6|         65000|\n",
            "|    Ian Walker| 33|        12| 80000|         33|                12|         80000|\n",
            "|   Julia Adams| 25|         4| 48000|         25|                 4|         48000|\n",
            "|  Kevin Martin| 38|         9| 72000|         38|                 9|         72000|\n",
            "|Laura Thompson| 31|         8| 78000|         31|                 8|         78000|\n",
            "|  Michael King| 45|        18|110000|         45|                18|        110000|\n",
            "|    Nina Scott| 26|         2| 50000|         26|                 2|         50000|\n",
            "|  Oscar Turner| 37|        14| 90000|         37|                14|         90000|\n",
            "|   Paula Allen| 34|        11| 82000|         34|                11|         82000|\n",
            "+--------------+---+----------+------+-----------+------------------+--------------+\n",
            "\n"
          ]
        }
      ]
    }
  ]
}